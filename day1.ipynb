{
 "cells": [
  {
   "cell_type": "code",
   "execution_count": 1,
   "id": "fb1653fd-60fb-492c-9205-b60e20f0dafe",
   "metadata": {},
   "outputs": [
    {
     "name": "stdin",
     "output_type": "stream",
     "text": [
      " 12\n",
      " 30\n",
      " 12\n"
     ]
    },
    {
     "name": "stdout",
     "output_type": "stream",
     "text": [
      "greatest is: 30\n"
     ]
    }
   ],
   "source": [
    "n1=int(input())\n",
    "n2=int(input())\n",
    "n3=int(input())\n",
    "if n1>n2:\n",
    "    print(\"greatest is:\",n1)\n",
    "elif n2>n3:\n",
    "    print(\"greatest is:\",n2)\n",
    "else:\n",
    "    print(\"greatest is:\",n3)"
   ]
  },
  {
   "cell_type": "code",
   "execution_count": 2,
   "id": "b1fedee2-52d1-4bee-8911-70293250d14b",
   "metadata": {},
   "outputs": [
    {
     "name": "stdin",
     "output_type": "stream",
     "text": [
      " 4\n"
     ]
    },
    {
     "name": "stdout",
     "output_type": "stream",
     "text": [
      "even\n"
     ]
    }
   ],
   "source": [
    "n1=int(input())\n",
    "if n1%2==0:\n",
    "    print(\"even\")\n",
    "else:\n",
    "    print(\"odd\")"
   ]
  },
  {
   "cell_type": "code",
   "execution_count": 4,
   "id": "55982f40-571b-4199-bab1-7635d2cdccfa",
   "metadata": {},
   "outputs": [
    {
     "name": "stdin",
     "output_type": "stream",
     "text": [
      "enter a weight between 1 and 100: 14\n"
     ]
    },
    {
     "name": "stdout",
     "output_type": "stream",
     "text": [
      "6 8\n",
      "Yes\n"
     ]
    }
   ],
   "source": [
    "w=int(input(\"enter a weight between 1 and 100:\"))\n",
    "if w>=1 and w<=100:\n",
    "    if w%2==0:\n",
    "        x=w//2\n",
    "        if x%2==0:\n",
    "            print(\"yes\",x,x)\n",
    "        else:\n",
    "            print(x-1,x+1)\n",
    "            print(\"Yes\")\n",
    "    else:\n",
    "        print(\"No\")\n",
    "else:\n",
    "    print(\"corret weight as given for above conditions \")"
   ]
  },
  {
   "cell_type": "code",
   "execution_count": 5,
   "id": "5f9075e0-5710-4f72-8fda-664bea0a0252",
   "metadata": {},
   "outputs": [
    {
     "name": "stdin",
     "output_type": "stream",
     "text": [
      "enter a distance: 22\n"
     ]
    },
    {
     "name": "stdout",
     "output_type": "stream",
     "text": [
      "5\n"
     ]
    }
   ],
   "source": [
    "x=int(input(\"enter a distance:\"))\n",
    "if x%5==0:\n",
    "    print(x//5)\n",
    "else:\n",
    "    print(x//5+1)"
   ]
  },
  {
   "cell_type": "code",
   "execution_count": 9,
   "id": "f8072bd6-f52a-4661-b384-52f956c97334",
   "metadata": {},
   "outputs": [
    {
     "name": "stdin",
     "output_type": "stream",
     "text": [
      " 15\n"
     ]
    },
    {
     "name": "stdout",
     "output_type": "stream",
     "text": [
      "it is fizzuzz\n"
     ]
    }
   ],
   "source": [
    "n=int(input())\n",
    "if n%3==0 and n%5==0:\n",
    "    print(\"it is fizzuzz\")\n",
    "elif n%3==0:\n",
    "    print(\"it is fizz\")\n",
    "elif n%5==0:\n",
    "    print(\"it is buzz\")\n",
    "else:\n",
    "    print(\"it is not any buzz or fizz\")"
   ]
  },
  {
   "cell_type": "code",
   "execution_count": 10,
   "id": "1bbfb1fd-b08d-4ab3-a04e-ab22638c4347",
   "metadata": {},
   "outputs": [
    {
     "name": "stdin",
     "output_type": "stream",
     "text": [
      " 27\n"
     ]
    },
    {
     "name": "stdout",
     "output_type": "stream",
     "text": [
      "its not a buzz\n"
     ]
    }
   ],
   "source": [
    "n=int(input())\n",
    "if n%7==0 and n%10==7:\n",
    "    print(\"it is buzz number\")\n",
    "else:\n",
    "    print(\"its not a buzz\")"
   ]
  },
  {
   "cell_type": "code",
   "execution_count": 11,
   "id": "faed1965-cea9-4ce9-8f58-5303694f9ca9",
   "metadata": {},
   "outputs": [
    {
     "name": "stdin",
     "output_type": "stream",
     "text": [
      " 4665\n"
     ]
    },
    {
     "name": "stdout",
     "output_type": "stream",
     "text": [
      "none\n"
     ]
    }
   ],
   "source": [
    "n=int(input())\n",
    "n1=n//10\n",
    "n2=n%10\n",
    "if n1==n2:\n",
    "    print(n)\n",
    "else:\n",
    "    print(\"none\")"
   ]
  },
  {
   "cell_type": "code",
   "execution_count": 13,
   "id": "1d43e6bb-55d7-408c-a3ae-5f80eabb572a",
   "metadata": {},
   "outputs": [
    {
     "name": "stdin",
     "output_type": "stream",
     "text": [
      " 45\n"
     ]
    },
    {
     "name": "stdout",
     "output_type": "stream",
     "text": [
      "none\n"
     ]
    }
   ],
   "source": [
    "n=int(input())\n",
    "if n%11==0:\n",
    "    print(\"are same\")\n",
    "else:\n",
    "    print(\"none\")\n",
    "    "
   ]
  },
  {
   "cell_type": "markdown",
   "id": "44a466fe-d413-4cb4-ae99-9c246ecff3db",
   "metadata": {},
   "source": [
    "for loop"
   ]
  },
  {
   "cell_type": "code",
   "execution_count": 15,
   "id": "d95065ec-e0e1-4292-9699-047ea5821fc6",
   "metadata": {},
   "outputs": [
    {
     "name": "stdout",
     "output_type": "stream",
     "text": [
      "50 52 54 56 58 60 62 64 66 68 70 72 74 76 78 80 82 84 86 88 90 92 94 96 98 100 50 51 52 53 54 55 56 57 58 59 60 61 62 63 64 65 66 67 68 69 70 71 72 73 74 75 76 77 78 79 80 81 82 83 84 85 86 87 88 89 90 91 92 93 94 95 96 97 98 99 100 "
     ]
    }
   ],
   "source": [
    "for i in range(50,101,2):\n",
    "    print(i,end=\" \")\n",
    "\n",
    "for i in range(50,101):\n",
    "    print(i,end=\" \")"
   ]
  },
  {
   "cell_type": "markdown",
   "id": "818814a9-6e72-4892-bcd0-9e5d6f9cebde",
   "metadata": {},
   "source": [
    "prime number"
   ]
  },
  {
   "cell_type": "code",
   "execution_count": 19,
   "id": "69edae93-17a1-4340-92b7-411bc9b95ddb",
   "metadata": {},
   "outputs": [
    {
     "name": "stdin",
     "output_type": "stream",
     "text": [
      " 15\n"
     ]
    },
    {
     "name": "stdout",
     "output_type": "stream",
     "text": [
      "prime\n",
      "not prime\n",
      "prime\n",
      "not prime\n",
      "prime\n",
      "prime\n",
      "prime\n",
      "prime\n",
      "prime\n",
      "prime\n",
      "prime\n",
      "prime\n",
      "prime\n"
     ]
    }
   ],
   "source": [
    "n=int(input())\n",
    "for i in range(2,n):\n",
    "    if n%i==0:\n",
    "        print(\"not prime\")\n",
    "    else:\n",
    "        print(\"prime\")"
   ]
  },
  {
   "cell_type": "code",
   "execution_count": 20,
   "id": "70318ef7-391c-4185-9299-51e67e00e82f",
   "metadata": {},
   "outputs": [
    {
     "name": "stdout",
     "output_type": "stream",
     "text": [
      "1\n"
     ]
    }
   ],
   "source": [
    "c=0\n",
    "for i in range(5,15):\n",
    "    if n%i==0:\n",
    "        c+=1\n",
    "        print(c)\n",
    "        break\n",
    "else:\n",
    "    print(\"not prime\")"
   ]
  },
  {
   "cell_type": "code",
   "execution_count": 29,
   "id": "b0c64e6e-9d76-46f3-aad3-e94d620c7626",
   "metadata": {},
   "outputs": [
    {
     "name": "stdin",
     "output_type": "stream",
     "text": [
      " 12\n",
      " 45\n"
     ]
    },
    {
     "name": "stdout",
     "output_type": "stream",
     "text": [
      "9\n"
     ]
    }
   ],
   "source": [
    "##cout of prime in a range\n",
    "def isprime(n):\n",
    "    for i in range(2,(n//2)+1):\n",
    "        if n%i==0:\n",
    "            return False\n",
    "    return True\n",
    "l=int(input())\n",
    "r=int(input())\n",
    "c=0\n",
    "for i in range(l,r+1):\n",
    "    if isprime(i):\n",
    "        c+=1\n",
    "print(c)\n",
    "\n"
   ]
  },
  {
   "cell_type": "code",
   "execution_count": 30,
   "id": "5886a7dd-a52d-4bc3-948d-9fd3cac6644a",
   "metadata": {},
   "outputs": [
    {
     "name": "stdin",
     "output_type": "stream",
     "text": [
      "enter a number : 12\n"
     ]
    },
    {
     "name": "stdout",
     "output_type": "stream",
     "text": [
      "3\n"
     ]
    }
   ],
   "source": [
    "sum=0\n",
    "n=int(input(\"enter a number :\"))\n",
    "while n>0:\n",
    "    d=n%10\n",
    "    sum=sum+d\n",
    "    n=n//10\n",
    "print(sum)"
   ]
  },
  {
   "cell_type": "code",
   "execution_count": 31,
   "id": "98cf7bd9-9b1b-4d7b-aa7f-b9bc4c879d75",
   "metadata": {},
   "outputs": [
    {
     "name": "stdin",
     "output_type": "stream",
     "text": [
      " 4\n"
     ]
    },
    {
     "name": "stdout",
     "output_type": "stream",
     "text": [
      "1\n"
     ]
    }
   ],
   "source": [
    "n=int(input())\n",
    "count=0\n",
    "while n>0:\n",
    "    count+=1\n",
    "    n=n//10\n",
    "print(count)"
   ]
  },
  {
   "cell_type": "code",
   "execution_count": 34,
   "id": "ac1d3666-e3b6-458a-9a0e-b4fc78fb4c22",
   "metadata": {},
   "outputs": [
    {
     "name": "stdin",
     "output_type": "stream",
     "text": [
      " 14\n",
      " 15\n"
     ]
    },
    {
     "name": "stdout",
     "output_type": "stream",
     "text": [
      "1\n"
     ]
    }
   ],
   "source": [
    "year=0\n",
    "l=int(input())\n",
    "b=int(input())\n",
    "while l<=b:\n",
    "    l*=3\n",
    "    b*=2\n",
    "    year+=1\n",
    "print(year)"
   ]
  },
  {
   "cell_type": "code",
   "execution_count": null,
   "id": "e377e325-ce10-4cfc-96e8-68518d3df4ef",
   "metadata": {},
   "outputs": [],
   "source": []
  }
 ],
 "metadata": {
  "kernelspec": {
   "display_name": "Python [conda env:base] *",
   "language": "python",
   "name": "conda-base-py"
  },
  "language_info": {
   "codemirror_mode": {
    "name": "ipython",
    "version": 3
   },
   "file_extension": ".py",
   "mimetype": "text/x-python",
   "name": "python",
   "nbconvert_exporter": "python",
   "pygments_lexer": "ipython3",
   "version": "3.13.5"
  }
 },
 "nbformat": 4,
 "nbformat_minor": 5
}
