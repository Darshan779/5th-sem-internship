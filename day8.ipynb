{
 "cells": [
  {
   "cell_type": "code",
   "execution_count": 1,
   "id": "999d7a17-4e2c-4088-a4c0-e47b1962b105",
   "metadata": {},
   "outputs": [
    {
     "name": "stdout",
     "output_type": "stream",
     "text": [
      "gt 650cc 15 4\n",
      "gt 650cc 15 4\n"
     ]
    }
   ],
   "source": [
    "class Bikes:\n",
    "    def perf(self):\n",
    "        print(\"gt\",\"650cc\",15,4)\n",
    "gt=Bikes()\n",
    "duke=Bikes()\n",
    "gt.perf()\n",
    "duke.perf()"
   ]
  },
  {
   "cell_type": "code",
   "execution_count": null,
   "id": "fc357094-e9ca-4751-83ac-2dfdcab98622",
   "metadata": {},
   "outputs": [],
   "source": [
    "#encapsulation example\n",
    "class bikes:\n",
    "    def _init_(self,name,cc,m,cost):\n",
    "        self.name = name\n",
    "        self.cc = cc\n",
    "        self.m = m\n",
    "        self.cost = cost\n",
    "    def performance(self):\n",
    "        print(\"abt bikes:\",self.name,self.cc,self.m,self.cost)\n",
    "gt=bikes(\"GT\",650,12,4)\n",
    "duke=bikes(\"duke\",390,30,2)\n",
    "gt.performance()\n",
    "duke.performance()"
   ]
  },
  {
   "cell_type": "code",
   "execution_count": null,
   "id": "e8307188-5262-46b0-ae73-fa60183733a5",
   "metadata": {},
   "outputs": [],
   "source": [
    "class cars:\n",
    "    wheels=4\n",
    "    def _init_(self,mil,car):\n",
    "        self.mil=mil\n",
    "        self.car=car\n",
    "    def get_mil(self):\n",
    "        return c1.mil\n",
    "    def set_mil(self):\n",
    "        c1.mil=12\n",
    "    @staticmethod\n",
    "    def info():\n",
    "        print(\"hi hello\")\n",
    "    @classmethod\n",
    "    def infor(cls):\n",
    "        return cls.wheels\n",
    "print(cars.infor())\n",
    "c1=cars(10,\"BMW\")\n",
    "c2=cars(15,\"audi\")\n",
    "c1.wheels=9\n",
    "print(c1.mil)\n",
    "print(c1.wheels)\n",
    "print(c2.wheels)\n",
    "print(c1.get_mil())\n",
    "print(c1.set_mil())\n",
    "print(c1.mil)"
   ]
  },
  {
   "cell_type": "code",
   "execution_count": 11,
   "id": "9d0c7826-5f17-4eab-a364-0ee50361d9ef",
   "metadata": {},
   "outputs": [
    {
     "name": "stdout",
     "output_type": "stream",
     "text": [
      "debugging\n",
      "printing error\n",
      "compiling\n",
      "running\n"
     ]
    }
   ],
   "source": [
    "#polymorphisim\n",
    "class pycharm:\n",
    "    def execute(self):\n",
    "        print(\"compiling\")\n",
    "        print(\"running\")\n",
    "class myeditor:\n",
    "    def execute(self):\n",
    "        print(\"debugging\")\n",
    "        print(\"printing error\")\n",
    "        print(\"compiling\")\n",
    "        print(\"running\")\n",
    "class laptop:\n",
    "    def code(self,ide):\n",
    "        ide.execute()\n",
    "ide=myeditor()\n",
    "lap1=laptop()\n",
    "lap1.code(ide)"
   ]
  },
  {
   "cell_type": "code",
   "execution_count": 13,
   "id": "10f0d594-4011-41bb-9898-5b236bbce758",
   "metadata": {},
   "outputs": [
    {
     "name": "stdout",
     "output_type": "stream",
     "text": [
      "10\n"
     ]
    }
   ],
   "source": [
    "a=4\n",
    "b=6\n",
    "print(a+b)"
   ]
  },
  {
   "cell_type": "code",
   "execution_count": null,
   "id": "3bd053d5-5c7f-4ccf-b6fe-c655ede80fda",
   "metadata": {},
   "outputs": [],
   "source": [
    "class student:\n",
    "    def _init_(self,m1,m2):\n",
    "        self.m1=m1\n",
    "        self.m2=m2\n",
    "    def _add_(self,other):\n",
    "        m1=self.m1+other.m1\n",
    "        m2=self.m2+other.m2\n",
    "        s3=student(m1,m2)\n",
    "        return s3\n",
    "    def _gt_(self,other):\n",
    "        r1=self.m1+self.m2\n",
    "        r2=other.m1+other.m2\n",
    "        if r1>r2:\n",
    "            return True\n",
    "        else:\n",
    "            return False\n",
    "s1=student(59,65)\n",
    "s2=student(67,85)\n",
    "s3=s1+s2\n",
    "print(s3.m1)\n",
    "print(s3.m2)\n",
    "if s1>s2:\n",
    "    print(\"s1 is having more marks then s2\")\n",
    "else:\n",
    "    print(\"s2 is having more marks then s1\")"
   ]
  },
  {
   "cell_type": "code",
   "execution_count": 19,
   "id": "912c4ad4-1b42-4005-bab6-39f690d67875",
   "metadata": {},
   "outputs": [
    {
     "name": "stdout",
     "output_type": "stream",
     "text": [
      "3\n",
      "6\n",
      "0\n"
     ]
    }
   ],
   "source": [
    "class math:\n",
    "    def add(self,a=0,b=0,c=0):\n",
    "        return a+b+c\n",
    "m=math()\n",
    "print(m.add(1,2))\n",
    "print(m.add(1,2,3))\n",
    "print(m.add())\n",
    "    "
   ]
  },
  {
   "cell_type": "code",
   "execution_count": 20,
   "id": "5d0be1b6-539d-4f02-989b-6ac834d1290e",
   "metadata": {},
   "outputs": [
    {
     "name": "stdout",
     "output_type": "stream",
     "text": [
      "dog barks\n"
     ]
    }
   ],
   "source": [
    "#single level inheritance\n",
    "class Animal:\n",
    "    def sound(self):\n",
    "        return \"Animal make different sounds\"\n",
    "class Dog(Animal):\n",
    "    def sound(self):\n",
    "        return \"dog barks\"\n",
    "d=Dog()\n",
    "print(d.sound())"
   ]
  },
  {
   "cell_type": "code",
   "execution_count": 21,
   "id": "a01abbbc-45f8-45a0-887a-21e180759485",
   "metadata": {},
   "outputs": [
    {
     "name": "stdout",
     "output_type": "stream",
     "text": [
      "Animal make different sounds\n",
      "dog barks\n"
     ]
    }
   ],
   "source": [
    "#single level inheritance\n",
    "class Animal:\n",
    "    def sound(self):\n",
    "        return \"Animal make different sounds\"\n",
    "class Dog(Animal):\n",
    "    def s(self):\n",
    "        return \"dog barks\"\n",
    "d=Dog()\n",
    "print(d.sound())\n",
    "print(d.s())"
   ]
  },
  {
   "cell_type": "code",
   "execution_count": 22,
   "id": "49a98e05-cdc7-4577-8376-7e63d243968f",
   "metadata": {},
   "outputs": [
    {
     "name": "stdout",
     "output_type": "stream",
     "text": [
      "this is an engine\n",
      "car has 4 wheels\n",
      "this a car\n"
     ]
    }
   ],
   "source": [
    "#multiple inheritance\n",
    "class engine:\n",
    "    def engine_info(self):\n",
    "        return \"this is an engine\"\n",
    "class wheels:\n",
    "    def wheels_info(self):\n",
    "        return \"car has 4 wheels\"\n",
    "class car(engine,wheels):\n",
    "    def car_info(self):\n",
    "        return \"this a car\"\n",
    "c=car()\n",
    "print(c.engine_info())\n",
    "print(c.wheels_info())\n",
    "print(c.car_info())"
   ]
  },
  {
   "cell_type": "code",
   "execution_count": 23,
   "id": "8ac62e98-b284-4bae-a4f5-d9b2f8fddb86",
   "metadata": {},
   "outputs": [
    {
     "name": "stdout",
     "output_type": "stream",
     "text": [
      "this is an animal\n",
      "this is a mammal\n",
      "humans can speak\n"
     ]
    }
   ],
   "source": [
    "#multi level inheritance\n",
    "class Animal:\n",
    "    def species(self):\n",
    "        return \"this is an animal\"\n",
    "class Mammal(Animal):\n",
    "    def category(self):\n",
    "        return \"this is a mammal\"\n",
    "class Human(Mammal):\n",
    "    def speak(self):\n",
    "        return \"humans can speak\"\n",
    "h=Human()\n",
    "print(h.species())\n",
    "print(h.category())\n",
    "print(h.speak())"
   ]
  },
  {
   "cell_type": "code",
   "execution_count": 25,
   "id": "0d60ab80-e991-40fb-9130-2f0a0ba0bb39",
   "metadata": {},
   "outputs": [
    {
     "name": "stdout",
     "output_type": "stream",
     "text": [
      "vehicles can use petrol,diesel and LPG\n",
      "car is a 4-wheeler\n",
      "bike is a 2-wheeler\n"
     ]
    }
   ],
   "source": [
    "#herircheal inheritance\n",
    "class vehicle:\n",
    "    def fuel_type(self):\n",
    "        return \"vehicles can use petrol,diesel and LPG\"\n",
    "class car(vehicle):\n",
    "    def type(self):\n",
    "        return \"car is a 4-wheeler\"\n",
    "class bike(vehicle):\n",
    "    def type(self):\n",
    "        return \"bike is a 2-wheeler\"\n",
    "c=car()\n",
    "b=bike()\n",
    "print(c.fuel_type())\n",
    "print(c.type())\n",
    "print(b.type())"
   ]
  },
  {
   "cell_type": "code",
   "execution_count": 26,
   "id": "8ae97c3e-c2c4-4646-98d0-44d82b6b5afd",
   "metadata": {},
   "outputs": [
    {
     "name": "stdout",
     "output_type": "stream",
     "text": [
      "Animal speaks\n",
      "Mammal gives birth\n",
      "Bird lays eggs\n"
     ]
    }
   ],
   "source": [
    "class Animal:\n",
    "    def speak(self):\n",
    "        print(\"Animal speaks\")\n",
    "class Mammal(Animal):\n",
    "    def give_birth(self):\n",
    "        print(\"Mammal gives birth\")\n",
    "class Bird(Animal):\n",
    "    def lay_eggs(self):\n",
    "        print(\"Bird lays eggs\")\n",
    "class Platypus(Mammal, Bird):\n",
    "    pass\n",
    "platypus = Platypus()\n",
    "platypus.speak()        \n",
    "platypus.give_birth()   \n",
    "platypus.lay_eggs()"
   ]
  },
  {
   "cell_type": "code",
   "execution_count": null,
   "id": "875a2e98-30cd-4bde-ace3-b67b82cf3b2a",
   "metadata": {},
   "outputs": [],
   "source": [
    "from abstract_class import Vehicle\n",
    "class Bike(Vehicle):\n",
    "    def _init_(self,n,color):\n",
    "        super()._init_(n)\n",
    "        self.color=color\n",
    "    def start(self):\n",
    "        print(\"Start with kick\")\n",
    "class Scooty(Vehicle):\n",
    "    def start(self):\n",
    "        print(\"Self start\")\n",
    "class Car(Vehicle):\n",
    "    def _init_(self,n,x):\n",
    "        super._init_(n)\n",
    "        self.no_of_gears=6\n",
    "    def start(self):\n",
    "        print(\"start with the key\")"
   ]
  },
  {
   "cell_type": "code",
   "execution_count": null,
   "id": "fae6051d-175a-408d-802e-b997b87d3ccd",
   "metadata": {},
   "outputs": [],
   "source": [
    "from abstractio_example import *\n",
    "bike=Bike(2,\"Black\")\n",
    "bike.start()\n",
    "scooty=scooty(2)\n",
    "scooty.start()"
   ]
  },
  {
   "cell_type": "code",
   "execution_count": 28,
   "id": "29981a6a-65fe-4265-9daf-0cc90c95b4d4",
   "metadata": {},
   "outputs": [
    {
     "name": "stdout",
     "output_type": "stream",
     "text": [
      "found\n"
     ]
    }
   ],
   "source": [
    "# Linear ssearch\n",
    "arr=[7,2,2,1,4,5,7,3]\n",
    "key=3\n",
    "for i in range(len(arr)):\n",
    "    if(arr[i]==key):\n",
    "        print(\"found\")\n",
    "        break\n",
    "else:\n",
    "    print(\"not found\")"
   ]
  },
  {
   "cell_type": "code",
   "execution_count": 29,
   "id": "547af29e-6924-4db9-ba24-d293d43b858e",
   "metadata": {},
   "outputs": [
    {
     "name": "stdin",
     "output_type": "stream",
     "text": [
      " 7\n"
     ]
    },
    {
     "name": "stdout",
     "output_type": "stream",
     "text": [
      "key found at index: 0\n"
     ]
    }
   ],
   "source": [
    "def search(list1,key):\n",
    "    for i in range(len(list1)):\n",
    "        if key==list1[i]:\n",
    "            print(\"key found at index:\",i)\n",
    "            break\n",
    "    else:\n",
    "        print(\"ket not found\")\n",
    "list1=[7,2,2,1,4,5,7,3]\n",
    "key=int(input())\n",
    "search(list1,key)"
   ]
  },
  {
   "cell_type": "code",
   "execution_count": 33,
   "id": "09743bf3-606b-4657-9432-abe6017ba6fd",
   "metadata": {},
   "outputs": [
    {
     "name": "stdout",
     "output_type": "stream",
     "text": [
      "2\n"
     ]
    }
   ],
   "source": [
    "# binary search\\\n",
    "nums=[1,2,5,8,9]\n",
    "target = 5\n",
    "low,high = 0,len(nums) - 1\n",
    "result = -1\n",
    "while low <= high:\n",
    "    mid = (low+high)// 2\n",
    "    if nums[mid] == target:\n",
    "        result = mid\n",
    "        break\n",
    "    elif num[mid] < target:\n",
    "        low = mid + 1\n",
    "    else:\n",
    "        high = mid - 1\n",
    "print(result)\n"
   ]
  },
  {
   "cell_type": "code",
   "execution_count": null,
   "id": "017a6374-6027-479d-8c1b-cc38a21b2803",
   "metadata": {},
   "outputs": [],
   "source": [
    "def first_and_last_occurrence(arr, x):\n",
    "    n = len(arr)\n",
    "    low, high = 0, n-1\n",
    "    first = -1\n",
    "    while low <= high:\n",
    "        mid = low + (high - low) // 2\n",
    "        if arr[mid] == x:\n",
    "            first = mid\n",
    "            high = mid - 1  \n",
    "        elif arr[mid] < x:\n",
    "            low = mid + 1\n",
    "        else:\n",
    "            high = mid - 1\n",
    "    low, high = 0, n-1\n",
    "    last = -1\n",
    "    while low <= high:\n",
    "        mid = low + (high - low) // 2\n",
    "        if arr[mid] == x:\n",
    "            last = mid\n",
    "            low = mid + 1   \n",
    "        elif arr[mid] < x:\n",
    "            low = mid + 1\n",
    "        else:\n",
    "            high = mid - 1\n",
    "    \n",
    "    return first, last\n",
    "\n",
    "arr = [1, 2, 2, 2, 3, 4, 5]\n",
    "target = 2\n",
    "print(first_and_last_occurrence(arr, target))"
   ]
  },
  {
   "cell_type": "code",
   "execution_count": 1,
   "id": "bb8a2990-2a54-4fb5-8bf0-f0fdbd610a5f",
   "metadata": {},
   "outputs": [
    {
     "name": "stdout",
     "output_type": "stream",
     "text": [
      "minimum element is: 0\n"
     ]
    }
   ],
   "source": [
    "def roted(arr):\n",
    "    l,h=0,len(arr)-1\n",
    "    while l<h:\n",
    "        m=(l+h)//2\n",
    "        if arr[m]>arr[h]:\n",
    "            l=m+1\n",
    "        else:\n",
    "            h=m\n",
    "    return arr[l]\n",
    "arr = [4,5,6,7,8,0,1,2,3]\n",
    "print(\"minimum element is:\",roted(arr))"
   ]
  },
  {
   "cell_type": "code",
   "execution_count": null,
   "id": "fca318dc-b30d-469b-bdb9-b34f34ea47be",
   "metadata": {},
   "outputs": [],
   "source": []
  },
  {
   "cell_type": "code",
   "execution_count": null,
   "id": "b6b786f8-372a-40fc-939a-cf1c38b275ed",
   "metadata": {},
   "outputs": [],
   "source": []
  }
 ],
 "metadata": {
  "kernelspec": {
   "display_name": "Python [conda env:base] *",
   "language": "python",
   "name": "conda-base-py"
  },
  "language_info": {
   "codemirror_mode": {
    "name": "ipython",
    "version": 3
   },
   "file_extension": ".py",
   "mimetype": "text/x-python",
   "name": "python",
   "nbconvert_exporter": "python",
   "pygments_lexer": "ipython3",
   "version": "3.13.5"
  }
 },
 "nbformat": 4,
 "nbformat_minor": 5
}
