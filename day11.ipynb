{
 "cells": [
  {
   "cell_type": "code",
   "execution_count": 1,
   "id": "373a1778-1965-47c8-bad2-67b340aadce7",
   "metadata": {},
   "outputs": [
    {
     "name": "stdout",
     "output_type": "stream",
     "text": [
      "Encoded number for 'Hello': 72101108108111\n"
     ]
    }
   ],
   "source": [
    "def encode_string_as_number(s):\n",
    "    ascii_values = [ord(char) for char in s]\n",
    "    encoded_number = ''.join(str(value) for value in ascii_values)\n",
    "    return int(encoded_number)\n",
    "input_string = \"Hello\"\n",
    "encoded_number = encode_string_as_number(input_string)\n",
    "print(f\"Encoded number for '{input_string}': {encoded_number}\")"
   ]
  },
  {
   "cell_type": "code",
   "execution_count": 2,
   "id": "0b65d6dd-82fb-46d0-8e40-3b2145adbc17",
   "metadata": {},
   "outputs": [
    {
     "name": "stdout",
     "output_type": "stream",
     "text": [
      "Counter({'7': 2, '8': 2, '3': 2, '5': 1, '9': 1, '2': 1})\n",
      "3\n"
     ]
    }
   ],
   "source": [
    "from collections import Counter\n",
    "data = 578378923  \n",
    "s = str(abs(data)) \n",
    "cnt = Counter(s) \n",
    "print(cnt) \n",
    "repeat = sum(1 for v in cnt.values() if v > 1)\n",
    "if repeat > 0:\n",
    "    print(repeat)\n",
    "else:\n",
    "    print(-1) "
   ]
  },
  {
   "cell_type": "code",
   "execution_count": 3,
   "id": "76ba4e9a-b59a-4826-a901-9e43686fce90",
   "metadata": {},
   "outputs": [
    {
     "name": "stdout",
     "output_type": "stream",
     "text": [
      "Sum of adjacent distances: 12\n"
     ]
    }
   ],
   "source": [
    "def sum_of_adjacent_distances(numbers):\n",
    "    total_distance = 0\n",
    "    for i in range(len(numbers) - 1):\n",
    "        total_distance += abs(numbers[i] - numbers[i + 1])\n",
    "    return total_distance\n",
    "input_numbers = [10, 11, 7, 12, 14]\n",
    "result = sum_of_adjacent_distances(input_numbers)\n",
    "print(\"Sum of adjacent distances:\", result)"
   ]
  },
  {
   "cell_type": "code",
   "execution_count": 4,
   "id": "e26eb113-6f62-42de-879e-a8701d8dcbb3",
   "metadata": {},
   "outputs": [
    {
     "name": "stdout",
     "output_type": "stream",
     "text": [
      "5\n"
     ]
    }
   ],
   "source": [
    "data = 22455564634\n",
    "m = 3\n",
    "s = str(data) \n",
    "d = {}  \n",
    "for i in s:\n",
    "    if i not in d:\n",
    "        d[i] = 1\n",
    "    else:\n",
    "        d[i] += 1\n",
    "res = None  \n",
    "for i in d:\n",
    "    if d[i] == m:\n",
    "        res = i \n",
    "if res is not None:\n",
    "    print(res)\n",
    "else:\n",
    "    print(\"No digit found that appears\", m, \"times\")"
   ]
  },
  {
   "cell_type": "code",
   "execution_count": 6,
   "id": "a5360353-5cf9-483d-a236-efafa60ea5f9",
   "metadata": {},
   "outputs": [
    {
     "name": "stdout",
     "output_type": "stream",
     "text": [
      "14\n"
     ]
    }
   ],
   "source": [
    "arr = [10, 11, 7, 12, 14]\n",
    "total = 0\n",
    "for i in range(len(arr)-1):\n",
    "    total += abs(arr[i] - arr[i-1])\n",
    "print(total)"
   ]
  },
  {
   "cell_type": "code",
   "execution_count": 8,
   "id": "5d4e3fc1-9512-4e6a-beea-c38cde1d0ccf",
   "metadata": {},
   "outputs": [
    {
     "name": "stdin",
     "output_type": "stream",
     "text": [
      " hd hgfd \n"
     ]
    },
    {
     "name": "stdout",
     "output_type": "stream",
     "text": [
      "2\n"
     ]
    }
   ],
   "source": [
    "text=input()\n",
    "c=0\n",
    "for i in text:\n",
    "    if not i.isalnum():\n",
    "        c+=1\n",
    "print(c)"
   ]
  },
  {
   "cell_type": "code",
   "execution_count": null,
   "id": "a1c1808d-6eb8-4188-b823-94932f7dbec8",
   "metadata": {},
   "outputs": [],
   "source": []
  }
 ],
 "metadata": {
  "kernelspec": {
   "display_name": "Python [conda env:base] *",
   "language": "python",
   "name": "conda-base-py"
  },
  "language_info": {
   "codemirror_mode": {
    "name": "ipython",
    "version": 3
   },
   "file_extension": ".py",
   "mimetype": "text/x-python",
   "name": "python",
   "nbconvert_exporter": "python",
   "pygments_lexer": "ipython3",
   "version": "3.13.5"
  }
 },
 "nbformat": 4,
 "nbformat_minor": 5
}
