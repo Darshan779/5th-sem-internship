{
 "cells": [
  {
   "cell_type": "code",
   "execution_count": null,
   "id": "0280b07a-6791-462a-b5ea-b04c621e8a3d",
   "metadata": {},
   "outputs": [],
   "source": [
    "class Node:\n",
    "    def _init_(self, root):\n",
    "        self.data = root\n",
    "        self.left = None\n",
    "        self.right = None\n",
    "\n",
    "\n",
    "def sum_of_nodes(root):\n",
    "    if root is None:\n",
    "        return 0\n",
    "    return root.data + sum_of_nodes(root.left) + sum_of_nodes(root.right)\n",
    "\n",
    "\n",
    "\n",
    "root = Node(10)\n",
    "root.left = Node(5)\n",
    "root.right = Node(20)\n",
    "root.left.left = Node(2)\n",
    "root.left.right = Node(8)\n",
    "root.right.left = Node(15)\n",
    "root.right.right = Node(25)\n",
    "root.left.left.left = Node(1)\n",
    "\n",
    "\n",
    "print(\"Sum of all nodes:\", sum_of_nodes(root))"
   ]
  },
  {
   "cell_type": "code",
   "execution_count": 7,
   "id": "5efc3958-516e-47ce-89cf-783b5e94a421",
   "metadata": {},
   "outputs": [
    {
     "name": "stdout",
     "output_type": "stream",
     "text": [
      "Sum of even nodes: 34\n"
     ]
    }
   ],
   "source": [
    "class Node:\n",
    "    def __init__(self, value):\n",
    "        self.value = value\n",
    "        self.left = None\n",
    "        self.right = None\n",
    "\n",
    "def sum_of_even_nodes(root):\n",
    "    if root is None:\n",
    "        return 0\n",
    "    \n",
    "    even_sum = root.value if root.value % 2 == 0 else 0\n",
    "    return even_sum + sum_of_even_nodes(root.left) + sum_of_even_nodes(root.right)\n",
    "\n",
    "\n",
    "root = Node(10)\n",
    "root.left = Node(5)\n",
    "root.right = Node(12)\n",
    "root.left.left = Node(4)\n",
    "root.left.right = Node(8)\n",
    "\n",
    "print(\"Sum of even nodes:\", sum_of_even_nodes(root))  \n"
   ]
  },
  {
   "cell_type": "code",
   "execution_count": null,
   "id": "1ac36c35-e757-4e4a-8f32-40ac647b2472",
   "metadata": {},
   "outputs": [],
   "source": []
  }
 ],
 "metadata": {
  "kernelspec": {
   "display_name": "Python [conda env:base] *",
   "language": "python",
   "name": "conda-base-py"
  },
  "language_info": {
   "codemirror_mode": {
    "name": "ipython",
    "version": 3
   },
   "file_extension": ".py",
   "mimetype": "text/x-python",
   "name": "python",
   "nbconvert_exporter": "python",
   "pygments_lexer": "ipython3",
   "version": "3.13.5"
  }
 },
 "nbformat": 4,
 "nbformat_minor": 5
}
