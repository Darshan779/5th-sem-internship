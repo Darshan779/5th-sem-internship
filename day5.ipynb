{
 "cells": [
  {
   "cell_type": "code",
   "execution_count": 3,
   "id": "6045c104-4248-4e45-9fec-02fc00e87602",
   "metadata": {},
   "outputs": [
    {
     "name": "stdin",
     "output_type": "stream",
     "text": [
      " hi hello\n"
     ]
    },
    {
     "name": "stdout",
     "output_type": "stream",
     "text": [
      "5\n"
     ]
    }
   ],
   "source": [
    "#count of vowels and consonants\n",
    "s=input()\n",
    "c=0\n",
    "v='aeiouAEIOU'\n",
    "for char in s:\n",
    "    if char not in v:\n",
    "        c+=1\n",
    "print(c)"
   ]
  },
  {
   "cell_type": "code",
   "execution_count": 4,
   "id": "6d5fb692-e211-4d3b-b1c1-0667f0bbf901",
   "metadata": {},
   "outputs": [
    {
     "name": "stdin",
     "output_type": "stream",
     "text": [
      " chandu topper\n"
     ]
    },
    {
     "name": "stdout",
     "output_type": "stream",
     "text": [
      "12 0\n"
     ]
    }
   ],
   "source": [
    "#count of alphabets and digits\n",
    "s=input()\n",
    "ca=0\n",
    "cd=0\n",
    "for char in s:\n",
    "    if char.isalpha():\n",
    "        ca+=1\n",
    "    if char.isdigit():\n",
    "        cd+=1\n",
    "print(ca,cd)"
   ]
  },
  {
   "cell_type": "code",
   "execution_count": 5,
   "id": "0fa8bb49-0899-4b98-b41e-b617f5ced27a",
   "metadata": {},
   "outputs": [
    {
     "name": "stdin",
     "output_type": "stream",
     "text": [
      "enter string: hi hello\n"
     ]
    },
    {
     "name": "stdout",
     "output_type": "stream",
     "text": [
      "hi-hello\n"
     ]
    }
   ],
   "source": [
    "s=input(\"enter string:\")\n",
    "s1=\"\"\n",
    "for char in s:\n",
    "    if char.isspace():\n",
    "        s1+='-'\n",
    "    else:\n",
    "        s1+=char\n",
    "print(s1)"
   ]
  },
  {
   "cell_type": "code",
   "execution_count": 6,
   "id": "c48c1cc7-a3a0-47ad-9e16-36893eceddcc",
   "metadata": {},
   "outputs": [
    {
     "name": "stdout",
     "output_type": "stream",
     "text": [
      "Bitm Students Are Good\n"
     ]
    }
   ],
   "source": [
    "#using title method\n",
    "s=\"bitm students are good\"\n",
    "result=s.title()\n",
    "print(result)"
   ]
  },
  {
   "cell_type": "code",
   "execution_count": 9,
   "id": "9bc0bb22-7795-4ae0-b649-03bb85554f46",
   "metadata": {},
   "outputs": [
    {
     "name": "stdin",
     "output_type": "stream",
     "text": [
      "enter string: hi hello\n"
     ]
    },
    {
     "name": "stdout",
     "output_type": "stream",
     "text": [
      "  Hi Hello\n"
     ]
    }
   ],
   "source": [
    "#without using title method\n",
    "s=input(\"enter string:\")\n",
    "words=s.split()\n",
    "res=' '\n",
    "for word in words:\n",
    "    cap=word[0].upper()+word[1:]\n",
    "    res=res+' '+cap\n",
    "print(res)"
   ]
  },
  {
   "cell_type": "code",
   "execution_count": 10,
   "id": "f9b20136-a355-4de3-92a1-5d4262fb6c01",
   "metadata": {},
   "outputs": [
    {
     "name": "stdin",
     "output_type": "stream",
     "text": [
      "enter string hi hello\n"
     ]
    },
    {
     "name": "stdout",
     "output_type": "stream",
     "text": [
      " olleh ih\n"
     ]
    }
   ],
   "source": [
    "#reverse the string without using slicing\n",
    "s=input(\"enter string\")\n",
    "s1=' '\n",
    "for i in range(len(s)-1,-1,-1):\n",
    "    s1+=s[i]\n",
    "print(s1)"
   ]
  },
  {
   "cell_type": "code",
   "execution_count": 13,
   "id": "3dd30ec9-2748-4954-bbca-91cb4a37015f",
   "metadata": {},
   "outputs": [
    {
     "name": "stdin",
     "output_type": "stream",
     "text": [
      "enter string: hi hello\n"
     ]
    },
    {
     "name": "stdout",
     "output_type": "stream",
     "text": [
      "5\n",
      "hello\n"
     ]
    }
   ],
   "source": [
    "#length of the longest word sentence\n",
    "s=input(\"enter string:\")\n",
    "l=s.split()\n",
    "length=0\n",
    "lword=' '\n",
    "for word in l:\n",
    "    if len(word)>length:\n",
    "        length = len(word)\n",
    "        lword=word\n",
    "print(length)\n",
    "print(lword)"
   ]
  },
  {
   "cell_type": "code",
   "execution_count": 14,
   "id": "4f503e65-41e5-42bc-b608-a40ee5ecdb67",
   "metadata": {},
   "outputs": [
    {
     "name": "stdin",
     "output_type": "stream",
     "text": [
      "enter string 12\n"
     ]
    },
    {
     "name": "stdout",
     "output_type": "stream",
     "text": [
      "not palindrome\n"
     ]
    }
   ],
   "source": [
    "#check wheather a string is palindrome or not\n",
    "s=input(\"enter string\")\n",
    "if s==s[::-1]:\n",
    "    print(\"palindrome\")\n",
    "else:\n",
    "    print(\"not palindrome\")"
   ]
  },
  {
   "cell_type": "code",
   "execution_count": 15,
   "id": "680199bd-037b-45e2-8d8e-d4d12309104a",
   "metadata": {},
   "outputs": [
    {
     "name": "stdin",
     "output_type": "stream",
     "text": [
      "enter string 12\n"
     ]
    },
    {
     "name": "stdout",
     "output_type": "stream",
     "text": [
      "Original: 12\n",
      "Without duplicates:  12\n"
     ]
    }
   ],
   "source": [
    "#remove duplicates in a string\n",
    "s=input(\"enter string\")\n",
    "result=\" \"\n",
    "for ch in s:\n",
    "    if ch not in result:\n",
    "        result += ch\n",
    "print(\"Original:\", s)\n",
    "print(\"Without duplicates:\", result)"
   ]
  },
  {
   "cell_type": "code",
   "execution_count": 16,
   "id": "713d41b2-a0c2-4bfe-a9a5-1b588ff7be41",
   "metadata": {},
   "outputs": [
    {
     "name": "stdin",
     "output_type": "stream",
     "text": [
      "enter string 11\n"
     ]
    },
    {
     "name": "stdout",
     "output_type": "stream",
     "text": [
      "Most repeated  character: 1\n",
      "frequency: 2\n"
     ]
    }
   ],
   "source": [
    "#find most repeated characters in string\n",
    "s=input(\"enter string\")\n",
    "c = 0\n",
    "char = \" \"\n",
    "for ch in s:\n",
    "    count = s.count(ch)\n",
    "    if count > c:\n",
    "        c = count\n",
    "        char = ch\n",
    "print(\"Most repeated  character:\", char)\n",
    "print(\"frequency:\", c)"
   ]
  },
  {
   "cell_type": "code",
   "execution_count": 18,
   "id": "66198ad1-d487-49d3-9a6f-7cdde1179a2d",
   "metadata": {},
   "outputs": [
    {
     "name": "stdin",
     "output_type": "stream",
     "text": [
      " Darshu@1021548\n"
     ]
    },
    {
     "name": "stdout",
     "output_type": "stream",
     "text": [
      "Correct\n"
     ]
    }
   ],
   "source": [
    "#strong password or weak pass\n",
    "password = input().strip()\n",
    "if len(password) < 5:\n",
    "    print(\"Too weak\")\n",
    "    exit()\n",
    "has_upper = any(ch.isupper() for ch in password)\n",
    "has_lower = any(ch.islower() for ch in password)\n",
    "has_digit = any(ch.isdigit() for ch in password)\n",
    "if has_upper and has_lower and has_digit:\n",
    "    print(\"Correct\")\n",
    "else:\n",
    "    print(\"Too weak\")"
   ]
  },
  {
   "cell_type": "code",
   "execution_count": 19,
   "id": "01c79d4f-2518-4365-99ce-b84bc44743a6",
   "metadata": {},
   "outputs": [
    {
     "name": "stdin",
     "output_type": "stream",
     "text": [
      "ENTER THE PASSWORD: Darshu@1016\n"
     ]
    },
    {
     "name": "stdout",
     "output_type": "stream",
     "text": [
      "1\n"
     ]
    }
   ],
   "source": [
    "#password validation\n",
    "password=input(\"ENTER THE PASSWORD:\")\n",
    "uc,lc,d,sp,cc=1,1,1,1,0\n",
    "sp_count=0\n",
    "fc=0\n",
    "c=0\n",
    "l=len(password)\n",
    "if not l>=6 and l<22:\n",
    "    c=1\n",
    "for i in range(l):\n",
    "    if password[i].isupper():\n",
    "        uc=0\n",
    "    if password[i].islower():\n",
    "        lc=0\n",
    "    if password[i].isdigit():\n",
    "        d=0\n",
    "    if password[i] in \"!@#$%^&*\":\n",
    "        sp_count+=1\n",
    "    if sp_count >= 2:\n",
    "        sp = 0\n",
    "    if i+1<l and password[i]==password[i+1]:\n",
    "        cc=11\n",
    "fc=uc+lc+d+sp+cc+c\n",
    "print(fc)"
   ]
  },
  {
   "cell_type": "code",
   "execution_count": null,
   "id": "19473909-ab94-4850-a694-5dc67e8c9e29",
   "metadata": {},
   "outputs": [],
   "source": []
  }
 ],
 "metadata": {
  "kernelspec": {
   "display_name": "Python [conda env:base] *",
   "language": "python",
   "name": "conda-base-py"
  },
  "language_info": {
   "codemirror_mode": {
    "name": "ipython",
    "version": 3
   },
   "file_extension": ".py",
   "mimetype": "text/x-python",
   "name": "python",
   "nbconvert_exporter": "python",
   "pygments_lexer": "ipython3",
   "version": "3.13.5"
  }
 },
 "nbformat": 4,
 "nbformat_minor": 5
}
