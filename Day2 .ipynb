{
 "cells": [
  {
   "cell_type": "code",
   "execution_count": 1,
   "id": "20a198f4-e4d4-453a-99db-80ca49c36bf3",
   "metadata": {},
   "outputs": [
    {
     "name": "stdin",
     "output_type": "stream",
     "text": [
      "enter a number : 12\n"
     ]
    },
    {
     "name": "stdout",
     "output_type": "stream",
     "text": [
      "googly\n"
     ]
    }
   ],
   "source": [
    "s=0\n",
    "n=int(input(\"enter a number :\"))\n",
    "while n>0:\n",
    "    d=n%1\n",
    "    s=s+d\n",
    "    n=n//10\n",
    "flag=0\n",
    "for i in range(2,s):\n",
    "    if s%i==0:\n",
    "        flag+=1\n",
    "if flag==0:\n",
    "    print(\"googly\")\n",
    "else:\n",
    "    print(\"not gogly\") "
   ]
  },
  {
   "cell_type": "code",
   "execution_count": 4,
   "id": "43de163c-5321-4bd3-9ae1-a498da6aa274",
   "metadata": {},
   "outputs": [
    {
     "name": "stdin",
     "output_type": "stream",
     "text": [
      "enter the number: 6\n"
     ]
    },
    {
     "name": "stdout",
     "output_type": "stream",
     "text": [
      "Armstrong\n"
     ]
    }
   ],
   "source": [
    "num=int(input(\"enter the number:\"))\n",
    "temp1=num\n",
    "temp2=num\n",
    "c=0\n",
    "while temp1>0:\n",
    "    c+=1\n",
    "    temp1=temp1//10\n",
    "arm=0\n",
    "while temp2>0:\n",
    "    d=temp2%10\n",
    "    arm=arm+d**c\n",
    "    temp2=temp2//10\n",
    "if arm==num:\n",
    "    print(\"Armstrong\")\n",
    "else:\n",
    "    print(\"not Armstrong\")"
   ]
  },
  {
   "cell_type": "code",
   "execution_count": 6,
   "id": "d452e026-2d35-415c-942b-b3a6f039fcd1",
   "metadata": {},
   "outputs": [
    {
     "name": "stdin",
     "output_type": "stream",
     "text": [
      " 9\n"
     ]
    },
    {
     "name": "stdout",
     "output_type": "stream",
     "text": [
      "neon\n"
     ]
    }
   ],
   "source": [
    "n=int(input())\n",
    "sqr=n*n\n",
    "sum=0\n",
    "while sqr>0:\n",
    "    d=sqr%10\n",
    "    sum=sum+d\n",
    "    sqr=sqr//10\n",
    "if n==sum:\n",
    "    print(\"neon\")\n",
    "else:\n",
    "    print(\"not neon\")  "
   ]
  },
  {
   "cell_type": "code",
   "execution_count": 9,
   "id": "c6872216-2abd-4d4a-8785-9fda8be0a0e1",
   "metadata": {},
   "outputs": [
    {
     "name": "stdin",
     "output_type": "stream",
     "text": [
      " 99\n"
     ]
    },
    {
     "name": "stdout",
     "output_type": "stream",
     "text": [
      "not\n"
     ]
    }
   ],
   "source": [
    "#magic number\n",
    "n=int(input())\n",
    "while n>9:\n",
    "    s=0\n",
    "    while n>0:\n",
    "        d=n%10\n",
    "        s+=d\n",
    "        n//=10\n",
    "    n=s\n",
    "if n==1:\n",
    "    print(\"magic\")\n",
    "else:\n",
    "    print(\"not\")"
   ]
  },
  {
   "cell_type": "code",
   "execution_count": 10,
   "id": "8675d0c9-307b-45eb-9168-f3f1d861deee",
   "metadata": {},
   "outputs": [
    {
     "name": "stdin",
     "output_type": "stream",
     "text": [
      " 45\n"
     ]
    },
    {
     "name": "stdout",
     "output_type": "stream",
     "text": [
      "1 3 5 9 15 45 composite\n"
     ]
    }
   ],
   "source": [
    "#composite number\n",
    "n=int(input())\n",
    "if n<=1:\n",
    "    print(\"not composite\")\n",
    "c=0\n",
    "for i in range(1,n+1):\n",
    "    if n%i==0:\n",
    "        print(i,end=\" \")\n",
    "        c+=1\n",
    "if c>2:\n",
    "    print(\"composite\")\n",
    "else:\n",
    "    print(\"not composite\")"
   ]
  },
  {
   "cell_type": "code",
   "execution_count": 11,
   "id": "7fa438e4-4a15-4a91-861c-db434b146a1e",
   "metadata": {},
   "outputs": [
    {
     "name": "stdin",
     "output_type": "stream",
     "text": [
      "Enter the num: 28\n"
     ]
    },
    {
     "name": "stdout",
     "output_type": "stream",
     "text": [
      "perfect num\n"
     ]
    }
   ],
   "source": [
    "#perfect number\n",
    "num=int(input(\"Enter the num:\"))\n",
    "sum=0\n",
    "for i in range(1,num):\n",
    "    if num%i==0:\n",
    "        sum=sum+i\n",
    "if num==sum:\n",
    "    print(\"perfect num\")\n",
    "else:\n",
    "    print(\"not perfect num\")"
   ]
  },
  {
   "cell_type": "code",
   "execution_count": 12,
   "id": "c0b70c63-1eac-401b-8182-43da5d9d2c99",
   "metadata": {},
   "outputs": [
    {
     "name": "stdin",
     "output_type": "stream",
     "text": [
      " 14\n"
     ]
    },
    {
     "name": "stdout",
     "output_type": "stream",
     "text": [
      "not srong\n"
     ]
    }
   ],
   "source": [
    "n=int(input())\n",
    "org=n\n",
    "fact=1\n",
    "s=0\n",
    "while n>0:\n",
    "    d=n%10\n",
    "    for i in range(1,d+1):\n",
    "        fact*=i\n",
    "    s+=fact\n",
    "    n=n//10\n",
    "    fact=1\n",
    "if org==sum:\n",
    "    print(\"strong num\")\n",
    "else:\n",
    "    print(\"not srong\")"
   ]
  },
  {
   "cell_type": "code",
   "execution_count": 13,
   "id": "500ed685-aba4-41ac-a786-43f317939f1b",
   "metadata": {},
   "outputs": [
    {
     "name": "stdin",
     "output_type": "stream",
     "text": [
      " 15\n"
     ]
    },
    {
     "name": "stdout",
     "output_type": "stream",
     "text": [
      "not spy\n"
     ]
    }
   ],
   "source": [
    "n=int(input())\n",
    "sum=0\n",
    "m=1\n",
    "while n>0:\n",
    "    d=n%10\n",
    "    sum+=d\n",
    "    m*=d\n",
    "    n=n//10\n",
    "if sum==m:\n",
    "    print(\"spy number\")\n",
    "else:\n",
    "    print(\"not spy\")"
   ]
  },
  {
   "cell_type": "code",
   "execution_count": 5,
   "id": "09bc9c6d-bbec-4705-8aab-28332f697f6c",
   "metadata": {},
   "outputs": [
    {
     "name": "stdin",
     "output_type": "stream",
     "text": [
      " 456\n",
      " 123\n"
     ]
    },
    {
     "name": "stdout",
     "output_type": "stream",
     "text": [
      "[123, 456]\n"
     ]
    }
   ],
   "source": [
    "l1=list(map(int,input().split()))\n",
    "l2=list(map(int,input().split()))\n",
    "l3=l1+l2\n",
    "l3.sort()\n",
    "print(l3)"
   ]
  },
  {
   "cell_type": "code",
   "execution_count": 8,
   "id": "99e56080-fdff-4771-8696-42630393c633",
   "metadata": {},
   "outputs": [
    {
     "name": "stdin",
     "output_type": "stream",
     "text": [
      " 1 5 9\n"
     ]
    },
    {
     "name": "stdout",
     "output_type": "stream",
     "text": [
      "[9, 5, 1]\n"
     ]
    }
   ],
   "source": [
    "l=list(map(int,input().split()))\n",
    "l[0],l[-1]=l[-1],l[0]\n",
    "print(l)"
   ]
  },
  {
   "cell_type": "code",
   "execution_count": 10,
   "id": "4e42d8d8-d4fb-455a-93bb-721bed9a17c8",
   "metadata": {},
   "outputs": [
    {
     "name": "stdin",
     "output_type": "stream",
     "text": [
      " 56 85 99 21 \n"
     ]
    },
    {
     "name": "stdout",
     "output_type": "stream",
     "text": [
      "[56, 85, 99, 21]\n"
     ]
    }
   ],
   "source": [
    "l=list(map(int,input().split()))\n",
    "u=[]\n",
    "for n in l:\n",
    "    if n not in u:\n",
    "        u.append(n)\n",
    "print(u)"
   ]
  },
  {
   "cell_type": "code",
   "execution_count": 5,
   "id": "74fec129-9007-48de-ad0a-666de82a362b",
   "metadata": {},
   "outputs": [
    {
     "name": "stdout",
     "output_type": "stream",
     "text": [
      "[1, 36, 47, 80]\n"
     ]
    }
   ],
   "source": [
    "l=list(map(int,input().split()))\n",
    "l1=[]\n",
    "for i in l:\n",
    "    if l.count(i)%2!=0 and i not in l1:\n",
    "        l1.append(i)\n",
    "print(l1)"
   ]
  },
  {
   "cell_type": "code",
   "execution_count": 4,
   "id": "112d3dfb-ef5c-42c3-8f58-12f1be8db141",
   "metadata": {},
   "outputs": [
    {
     "name": "stdout",
     "output_type": "stream",
     "text": [
      "84\n"
     ]
    }
   ],
   "source": [
    "l=[1,36,47,80]\n",
    "l.sort()\n",
    "print(sum(l[:3]))"
   ]
  },
  {
   "cell_type": "code",
   "execution_count": 7,
   "id": "ac46ab3e-2f75-4a9a-a1dd-953abdb6ea24",
   "metadata": {},
   "outputs": [
    {
     "name": "stdout",
     "output_type": "stream",
     "text": [
      "[2, 4, 6, 8, 10, 12]\n"
     ]
    }
   ],
   "source": [
    "l=[8,5,6,9,10,5,3,11,2,1,12,4]\n",
    "even=sorted([i for i in l if i%2==0])\n",
    "print(even)"
   ]
  },
  {
   "cell_type": "code",
   "execution_count": 8,
   "id": "84b3c494-3a94-4daa-a3bd-0745e2029479",
   "metadata": {},
   "outputs": [
    {
     "name": "stdout",
     "output_type": "stream",
     "text": [
      "[12, 10, 8, 6, 4, 2, 1, 3, 5, 5, 9, 11]\n"
     ]
    }
   ],
   "source": [
    "#sorting\n",
    "l=[8,5,6,9,10,5,3,11,2,1,12,4]\n",
    "even=[]\n",
    "odd=[]\n",
    "for i in l:\n",
    "    if i%2==0:\n",
    "        even.append(i)\n",
    "    else:\n",
    "        odd.append(i)\n",
    "even.sort(reverse=True)\n",
    "odd.sort()\n",
    "res=even+odd  \n",
    "print(res)"
   ]
  },
  {
   "cell_type": "code",
   "execution_count": 12,
   "id": "ea4d0189-8b3b-4097-a13b-1c5292b28d5f",
   "metadata": {},
   "outputs": [
    {
     "name": "stdout",
     "output_type": "stream",
     "text": [
      "[1, 1, 1, 1, 1, 1, 1, 3, 5, 5, 9, 11]\n"
     ]
    }
   ],
   "source": [
    "l=[8,5,6,9,10,5,3,11,2,1,12,4]\n",
    "l.sort()\n",
    "l1=[]\n",
    "for i in l:\n",
    "    if i%2==0:\n",
    "        l1.insert(0,1)\n",
    "    else:\n",
    "        l1.append(i)\n",
    "print(l1)"
   ]
  },
  {
   "cell_type": "code",
   "execution_count": null,
   "id": "f87834e9-ad04-4977-9f86-d85b5a8c921e",
   "metadata": {},
   "outputs": [],
   "source": []
  },
  {
   "cell_type": "code",
   "execution_count": null,
   "id": "e9444187-2cd5-4085-8467-9ae184972576",
   "metadata": {},
   "outputs": [],
   "source": []
  }
 ],
 "metadata": {
  "kernelspec": {
   "display_name": "Python [conda env:base] *",
   "language": "python",
   "name": "conda-base-py"
  },
  "language_info": {
   "codemirror_mode": {
    "name": "ipython",
    "version": 3
   },
   "file_extension": ".py",
   "mimetype": "text/x-python",
   "name": "python",
   "nbconvert_exporter": "python",
   "pygments_lexer": "ipython3",
   "version": "3.13.5"
  }
 },
 "nbformat": 4,
 "nbformat_minor": 5
}
