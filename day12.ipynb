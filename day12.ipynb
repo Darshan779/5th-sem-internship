{
 "cells": [
  {
   "cell_type": "code",
   "execution_count": 1,
   "id": "c6084ec1-fe3d-4a17-b8e8-ea3be95eed42",
   "metadata": {},
   "outputs": [
    {
     "name": "stdout",
     "output_type": "stream",
     "text": [
      "-17\n"
     ]
    }
   ],
   "source": [
    "#Bingo online lotery\n",
    "v=[-10,-7,-3,4,2]\n",
    "v.sort()\n",
    "prod1=v[-1]*v[-2]\n",
    "prod2=v[0]*v[1]\n",
    "if prod2>prod1:\n",
    "    print(v[0]+v[1])\n",
    "else:\n",
    "    print(v[-1]+v[-2])"
   ]
  },
  {
   "cell_type": "code",
   "execution_count": 2,
   "id": "d8307b54-2d4d-4db3-9fc9-db2f7871d718",
   "metadata": {},
   "outputs": [
    {
     "name": "stdin",
     "output_type": "stream",
     "text": [
      " f\n",
      " 2\n"
     ]
    },
    {
     "name": "stdout",
     "output_type": "stream",
     "text": [
      "h\n"
     ]
    }
   ],
   "source": [
    "ch=input()\n",
    "n=int(input())\n",
    "s1='abcdefghijklmnopqrstuvwxyz'\n",
    "s2='ABCDEFGHIJKLMNOPQRSTUVWXYZ'\n",
    "if ch.islower():\n",
    "    idx=s1.index(ch)\n",
    "    res=(idx+n)%26\n",
    "    print(s1[res])   \n",
    "if ch.isupper():\n",
    "    idx=s2.index(ch)\n",
    "    res=(idx+n)%26\n",
    "    print(s2[res])"
   ]
  },
  {
   "cell_type": "code",
   "execution_count": 5,
   "id": "b0362f91-634d-4f7a-bd39-bd2b5f50cbef",
   "metadata": {},
   "outputs": [
    {
     "name": "stdin",
     "output_type": "stream",
     "text": [
      " 10 30 60\n",
      " 335 38 45 48 55\n"
     ]
    },
    {
     "name": "stdout",
     "output_type": "stream",
     "text": [
      "[38, 45, 48, 55]\n"
     ]
    }
   ],
   "source": [
    "#\n",
    "n,l,h=map(int,input().split())\n",
    "arr=list(map(int,input().split()))\n",
    "res=[x for x in arr if l<= x <= h]\n",
    "print(res)"
   ]
  },
  {
   "cell_type": "code",
   "execution_count": 8,
   "id": "80877103-3326-498b-90de-b976d8ecba2b",
   "metadata": {},
   "outputs": [
    {
     "name": "stdout",
     "output_type": "stream",
     "text": [
      "defaultdict(<class 'list'>, {'A': ['B', 'C'], 'B': ['B', 'D'], 'D': ['D'], 'C': ['C', 'E'], 'E': ['E', 'F'], 'F': ['F']})\n"
     ]
    }
   ],
   "source": [
    "from collections import defaultdict\n",
    "edges=[['A','B'],['B','D'],['A','C'],['C','E'],['E','F']]\n",
    "adj_list=defaultdict(list)\n",
    "for u,v in edges:\n",
    "    adj_list[u].append(v)\n",
    "    adj_list[v].append(v)\n",
    "print(adj_list)"
   ]
  },
  {
   "cell_type": "code",
   "execution_count": 9,
   "id": "d5ce3d5d-0a2f-4fab-99a0-736b996b0413",
   "metadata": {},
   "outputs": [
    {
     "name": "stdout",
     "output_type": "stream",
     "text": [
      "A B C D E F "
     ]
    }
   ],
   "source": [
    "def BFS(graph,start):\n",
    "    visited=set()\n",
    "    q=[start]\n",
    "    while q:\n",
    "        n=q.pop(0)\n",
    "        if n not in visited:\n",
    "            print(n,end=\" \")\n",
    "            visited.add(n)\n",
    "            q.extend(graph[n])\n",
    "graph={\n",
    "    'A':['B','C'],\n",
    "    'B':['A','D','E'],\n",
    "    'C':['A','F'],\n",
    "    'D':['B'],\n",
    "    'E':['B','F'],\n",
    "    'F':['C','E']\n",
    "}\n",
    "BFS(graph,'A')"
   ]
  },
  {
   "cell_type": "code",
   "execution_count": 10,
   "id": "2d24a1ae-c209-4cc3-b969-00c5e3da07d8",
   "metadata": {},
   "outputs": [
    {
     "name": "stdout",
     "output_type": "stream",
     "text": [
      "A B D E F C "
     ]
    }
   ],
   "source": [
    "def dfs(graph,n,visited=set()):\n",
    "    if n not in visited:\n",
    "        print(n,end=\" \")\n",
    "        visited.add(n)\n",
    "        for i in graph[n]:\n",
    "            dfs(graph,i,visited)\n",
    "        \n",
    "graph={\n",
    "    'A':['B','C'],\n",
    "    'B':['A','D','E'],\n",
    "    'C':['A','F'],\n",
    "    'D':['B'],\n",
    "    'E':['B','F'],\n",
    "    'F':['C','E']\n",
    "}\n",
    "dfs(graph,'A')"
   ]
  },
  {
   "cell_type": "code",
   "execution_count": null,
   "id": "024d3afd-f9e4-4e23-bd06-7ae7d707e43b",
   "metadata": {},
   "outputs": [],
   "source": []
  }
 ],
 "metadata": {
  "kernelspec": {
   "display_name": "Python [conda env:base] *",
   "language": "python",
   "name": "conda-base-py"
  },
  "language_info": {
   "codemirror_mode": {
    "name": "ipython",
    "version": 3
   },
   "file_extension": ".py",
   "mimetype": "text/x-python",
   "name": "python",
   "nbconvert_exporter": "python",
   "pygments_lexer": "ipython3",
   "version": "3.13.5"
  }
 },
 "nbformat": 4,
 "nbformat_minor": 5
}
