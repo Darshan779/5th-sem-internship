{
 "cells": [
  {
   "cell_type": "code",
   "execution_count": 3,
   "id": "8793392a-543b-4567-8c4a-eda35a03a6e8",
   "metadata": {},
   "outputs": [
    {
     "name": "stdout",
     "output_type": "stream",
     "text": [
      "1\n"
     ]
    }
   ],
   "source": [
    "#police recruits\n",
    "l=[1,-1,1,-1,-1,1,1,1]\n",
    "p=0\n",
    "uns=0\n",
    "for i in l:\n",
    "    if i==-1:\n",
    "        if p>0:\n",
    "            p-=1\n",
    "        else:\n",
    "            uns+=1\n",
    "    else:\n",
    "        p+=i\n",
    "print(uns)"
   ]
  },
  {
   "cell_type": "code",
   "execution_count": 5,
   "id": "144a98f3-7a34-4e69-a54f-5410bec88c61",
   "metadata": {},
   "outputs": [
    {
     "name": "stdout",
     "output_type": "stream",
     "text": [
      "67 89\n"
     ]
    }
   ],
   "source": [
    "nums = [12, 45, 67, 89, 23]\n",
    "largest, second_largest = sorted(nums)[-2:]\n",
    "print(largest, second_largest)"
   ]
  },
  {
   "cell_type": "code",
   "execution_count": 7,
   "id": "ad28e638-349a-451a-9d98-4c5d619f68a2",
   "metadata": {},
   "outputs": [
    {
     "name": "stdin",
     "output_type": "stream",
     "text": [
      " 4\n"
     ]
    },
    {
     "name": "stdout",
     "output_type": "stream",
     "text": [
      "even\n"
     ]
    }
   ],
   "source": [
    "num=int(input())\n",
    "if num&1==0:\n",
    "    print(\"even\")\n",
    "else:\n",
    "    print(\"odd\")"
   ]
  },
  {
   "cell_type": "code",
   "execution_count": 8,
   "id": "cb92d383-331f-4fc6-8a21-2193c996fb33",
   "metadata": {},
   "outputs": [
    {
     "name": "stdout",
     "output_type": "stream",
     "text": [
      "5 10\n"
     ]
    }
   ],
   "source": [
    "a=10\n",
    "b=5\n",
    "temp=a\n",
    "a=b\n",
    "b=temp\n",
    "print(a,b)"
   ]
  },
  {
   "cell_type": "code",
   "execution_count": 9,
   "id": "92415a29-dff4-4eb2-8f39-9c50984db532",
   "metadata": {},
   "outputs": [
    {
     "name": "stdout",
     "output_type": "stream",
     "text": [
      "5 10\n"
     ]
    }
   ],
   "source": [
    "a=10\n",
    "b=5\n",
    "a=a^b\n",
    "b=a^b\n",
    "a=a^b\n",
    "print(a,b)"
   ]
  },
  {
   "cell_type": "code",
   "execution_count": 1,
   "id": "5ab88443-906c-4a00-979e-83009bcc0bfb",
   "metadata": {},
   "outputs": [
    {
     "name": "stdout",
     "output_type": "stream",
     "text": [
      "1 3 1 7 1 3 1 15 1 3 "
     ]
    }
   ],
   "source": [
    "n=10\n",
    "for i in range(0,10):\n",
    "    i=i^(i+1)\n",
    "    #i+=1\n",
    "    print(i,end=\" \")"
   ]
  },
  {
   "cell_type": "code",
   "execution_count": 2,
   "id": "26dfedd1-4e3c-441a-b77f-cc34589b8d6f",
   "metadata": {},
   "outputs": [
    {
     "ename": "SyntaxError",
     "evalue": "'return' outside function (3646570622.py, line 2)",
     "output_type": "error",
     "traceback": [
      "\u001b[1;36m  Cell \u001b[1;32mIn[2], line 2\u001b[1;36m\u001b[0m\n\u001b[1;33m    return n\u001b[0m\n\u001b[1;37m    ^\u001b[0m\n\u001b[1;31mSyntaxError\u001b[0m\u001b[1;31m:\u001b[0m 'return' outside function\n"
     ]
    }
   ],
   "source": [
    "if n%4==0:\n",
    "    return n\n",
    "elif n%4==1:\n",
    "    return n+1"
   ]
  },
  {
   "cell_type": "code",
   "execution_count": 3,
   "id": "4bb0c47e-e3e5-419b-a2e0-6ee9ef6da5ac",
   "metadata": {},
   "outputs": [
    {
     "name": "stdout",
     "output_type": "stream",
     "text": [
      "0\n"
     ]
    }
   ],
   "source": [
    "def computeXOR(n):\n",
    "    res = 0\n",
    "    for i in range(1,n+1):\n",
    "        res = res ^ i\n",
    "    return res\n",
    "\n",
    "n = 7\n",
    "print(computeXOR(n))"
   ]
  },
  {
   "cell_type": "code",
   "execution_count": 4,
   "id": "1a842abb-ef0d-477d-8ee3-db886c43acd6",
   "metadata": {},
   "outputs": [
    {
     "name": "stdin",
     "output_type": "stream",
     "text": [
      " 0 8\n"
     ]
    },
    {
     "name": "stdout",
     "output_type": "stream",
     "text": [
      "8\n"
     ]
    }
   ],
   "source": [
    "def XoR(n):\n",
    "    if n%4==1:\n",
    "        return 1\n",
    "    if n%4==2:\n",
    "        return n+1\n",
    "    if n%4==3:\n",
    "        return 0\n",
    "    if n%4==0:\n",
    "        return n\n",
    "l,r=map(int,input().split())\n",
    "a=XoR(r)\n",
    "b=XoR(l-1)\n",
    "print(a^b)\n",
    "\n",
    "        "
   ]
  },
  {
   "cell_type": "code",
   "execution_count": null,
   "id": "9758f2a8-d39b-44d6-bdc2-e462f30288e8",
   "metadata": {},
   "outputs": [],
   "source": []
  }
 ],
 "metadata": {
  "kernelspec": {
   "display_name": "Python [conda env:base] *",
   "language": "python",
   "name": "conda-base-py"
  },
  "language_info": {
   "codemirror_mode": {
    "name": "ipython",
    "version": 3
   },
   "file_extension": ".py",
   "mimetype": "text/x-python",
   "name": "python",
   "nbconvert_exporter": "python",
   "pygments_lexer": "ipython3",
   "version": "3.13.5"
  }
 },
 "nbformat": 4,
 "nbformat_minor": 5
}
