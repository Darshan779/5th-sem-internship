{
 "cells": [
  {
   "cell_type": "code",
   "execution_count": 1,
   "id": "85f162bd-0336-441d-a917-d9e068cd5bb4",
   "metadata": {},
   "outputs": [
    {
     "name": "stdout",
     "output_type": "stream",
     "text": [
      "1\n",
      "4\n",
      "4\n",
      "4\n"
     ]
    }
   ],
   "source": [
    "s=\"abba\"\n",
    "m=0\n",
    "for c in range(len(s)):\n",
    "    l,r=c,c\n",
    "    while l>=0 and r<len(s) and s[l]==s[r]:\n",
    "        m=max(m,r-l+1)\n",
    "        l-=1\n",
    "        r+=1\n",
    "    l,r=c,c+1\n",
    "    while l>=0 and r<len(s) and s[l]==s[r]:\n",
    "        m=max(m,r-l+1)\n",
    "        l-=1\n",
    "        r+=1\n",
    "    print(m)"
   ]
  },
  {
   "cell_type": "code",
   "execution_count": 2,
   "id": "37e1a644-8d9d-4e19-986c-ccc0de40a6c4",
   "metadata": {},
   "outputs": [],
   "source": [
    "def qwer():\n",
    "    print(\"hi\")\n"
   ]
  },
  {
   "cell_type": "code",
   "execution_count": 4,
   "id": "79aa2e7c-6e75-4e1a-a5d0-8bb5f9d83c6f",
   "metadata": {},
   "outputs": [
    {
     "name": "stdout",
     "output_type": "stream",
     "text": [
      "10 hi\n",
      "3\n"
     ]
    }
   ],
   "source": [
    "def qwer(x):\n",
    "    print(x,\"hi\")\n",
    "    return 30\n",
    "o= qwer(10) +600\n",
    "print(c)"
   ]
  },
  {
   "cell_type": "code",
   "execution_count": 5,
   "id": "31825395-7d46-48d8-9938-0d5180ebc74a",
   "metadata": {},
   "outputs": [
    {
     "name": "stdout",
     "output_type": "stream",
     "text": [
      "1\n",
      "2\n",
      "3\n",
      "4\n",
      "5\n"
     ]
    }
   ],
   "source": [
    "def qwer(x):\n",
    "    if(x==6):\n",
    "        return\n",
    "    print(x)\n",
    "    qwer(x+1)\n",
    "qwer(1)"
   ]
  },
  {
   "cell_type": "code",
   "execution_count": 3,
   "id": "f7d77c91-9af9-4505-8d0a-c4083aece2c6",
   "metadata": {},
   "outputs": [
    {
     "name": "stdout",
     "output_type": "stream",
     "text": [
      "16\n"
     ]
    }
   ],
   "source": [
    "def sqr(n):\n",
    "    print(n*n)\n",
    "sqr(4)"
   ]
  },
  {
   "cell_type": "code",
   "execution_count": 6,
   "id": "a5e9a9b4-5e26-4005-a20c-d749e0d7d293",
   "metadata": {},
   "outputs": [
    {
     "name": "stdin",
     "output_type": "stream",
     "text": [
      " 12\n"
     ]
    },
    {
     "name": "stdout",
     "output_type": "stream",
     "text": [
      "144\n"
     ]
    }
   ],
   "source": [
    "def square(n):\n",
    "    return n*n\n",
    "n=int(input())\n",
    "result=square(n)\n",
    "print(result)"
   ]
  },
  {
   "cell_type": "code",
   "execution_count": 8,
   "id": "6b3d0933-0d39-4f1e-bfe7-4aed089a26bd",
   "metadata": {},
   "outputs": [
    {
     "name": "stdin",
     "output_type": "stream",
     "text": [
      " 45\n",
      " 32\n"
     ]
    },
    {
     "name": "stdout",
     "output_type": "stream",
     "text": [
      "77\n"
     ]
    }
   ],
   "source": [
    "f=lambda a,b:a+b\n",
    "n=int(input())\n",
    "m=int(input())\n",
    "result=f(n,m)\n",
    "print(result)"
   ]
  },
  {
   "cell_type": "code",
   "execution_count": 13,
   "id": "91080565-f6a2-4395-96e4-5192d0ceb178",
   "metadata": {},
   "outputs": [
    {
     "name": "stdout",
     "output_type": "stream",
     "text": [
      "[2, 4, 6, 8]\n"
     ]
    }
   ],
   "source": [
    "def even(n):\n",
    "    return n%2==0\n",
    "nums=[1,2,3,4,5,6,7,8,9]\n",
    "evens=list(filter(even,nums))\n",
    "print(evens)"
   ]
  },
  {
   "cell_type": "code",
   "execution_count": 15,
   "id": "fdaf6da5-0e91-4acc-925d-676d6174ac4f",
   "metadata": {},
   "outputs": [
    {
     "name": "stdout",
     "output_type": "stream",
     "text": [
      "[4, 8, 12, 16]\n"
     ]
    }
   ],
   "source": [
    "def update(n):\n",
    "    return n*2\n",
    "nums=[1,2,3,4,5,6,7,8,9]\n",
    "evens=list(filter(lambda n:n%2==0,nums))\n",
    "doubles=list(map(lambda n:n*2,evens))\n",
    "print(doubles)"
   ]
  },
  {
   "cell_type": "code",
   "execution_count": 14,
   "id": "b94ff172-9866-4cfb-9b9b-bc988da3459b",
   "metadata": {},
   "outputs": [
    {
     "name": "stdout",
     "output_type": "stream",
     "text": [
      "[2, 4, 6, 8]\n"
     ]
    }
   ],
   "source": [
    "nums=[1,2,3,4,5,6,7,8,9]\n",
    "evens=list(filter(lambda n:n%2==0,nums))\n",
    "doubles=list(map(lambda n:n*2,evens))\n",
    "print(evens)"
   ]
  },
  {
   "cell_type": "code",
   "execution_count": 1,
   "id": "c326ed41-f4d8-45b8-9ee3-becf684e60d8",
   "metadata": {},
   "outputs": [
    {
     "name": "stdout",
     "output_type": "stream",
     "text": [
      "[4, 8, 12, 16]\n",
      "40\n"
     ]
    }
   ],
   "source": [
    "# from functools import reduce\n",
    "from functools import reduce\n",
    "nums=[1,2,3,4,5,6,7,8,9]\n",
    "evens=list(filter(lambda n:n%2==0,nums))\n",
    "doubles=list(map(lambda n:n*2,evens))\n",
    "num=reduce(lambda a,b:a+b,doubles)\n",
    "print(doubles)\n",
    "print(num)"
   ]
  },
  {
   "cell_type": "code",
   "execution_count": 2,
   "id": "20c5cec2-d23e-4ac4-832e-0112dc69a3e0",
   "metadata": {},
   "outputs": [
    {
     "name": "stdout",
     "output_type": "stream",
     "text": [
      "sum= 15\n"
     ]
    }
   ],
   "source": [
    "#find sum\n",
    "def find_sum(a,b,c,d,e):\n",
    "    return a+b+c+d+e\n",
    "print(\"sum=\",find_sum(1,2,3,4,5))"
   ]
  },
  {
   "cell_type": "code",
   "execution_count": 6,
   "id": "7978ce55-53b5-4ab1-ad7c-37fcf3b186cc",
   "metadata": {},
   "outputs": [
    {
     "name": "stdout",
     "output_type": "stream",
     "text": [
      "largest 60\n"
     ]
    }
   ],
   "source": [
    "#largest of five numbers\n",
    "def find_max(a,b,c,d):\n",
    "    return max(a,b,c,d)\n",
    "print(\"largest\",find_max(20,40,60,15))"
   ]
  },
  {
   "cell_type": "code",
   "execution_count": 1,
   "id": "1ac475b3-5a36-4252-8ea5-ae43b552a619",
   "metadata": {},
   "outputs": [
    {
     "name": "stdout",
     "output_type": "stream",
     "text": [
      "8 is Even\n",
      "11 is Odd\n"
     ]
    }
   ],
   "source": [
    "#check if a number is even or odd\n",
    "def even_odd(n):\n",
    "    if n%2==0:\n",
    "        return \"Even\"\n",
    "    else:\n",
    "        return \"Odd\"\n",
    "print(\"8 is\", even_odd(4))\n",
    "print(\"11 is\", even_odd(7))"
   ]
  },
  {
   "cell_type": "code",
   "execution_count": 4,
   "id": "dbd2be30-be98-4e2a-8387-a3e63cae2216",
   "metadata": {},
   "outputs": [
    {
     "name": "stdout",
     "output_type": "stream",
     "text": [
      "factorial of 6= 720\n"
     ]
    }
   ],
   "source": [
    "def factorial(n):\n",
    "    fact=1\n",
    "    for i in range(1,n+1):\n",
    "        fact*=i\n",
    "    return fact\n",
    "print(\"factorial of 6=\",factorial(6))"
   ]
  },
  {
   "cell_type": "code",
   "execution_count": 5,
   "id": "fa32b98b-b9cb-4a8a-a448-b7b2e826043c",
   "metadata": {},
   "outputs": [
    {
     "name": "stdout",
     "output_type": "stream",
     "text": [
      "hi False\n",
      "hello False\n"
     ]
    }
   ],
   "source": [
    "#def if a string is palindrome\n",
    "def is_palindrome(s):\n",
    "    return s==s[::-1]\n",
    "print(\"hi\",is_palindrome(\"hi\"))\n",
    "print(\"hello\",is_palindrome(\"hello\"))"
   ]
  },
  {
   "cell_type": "code",
   "execution_count": 11,
   "id": "02faaac1-5bb5-49ab-98a3-59db8353dd74",
   "metadata": {},
   "outputs": [
    {
     "name": "stdin",
     "output_type": "stream",
     "text": [
      " 12\n"
     ]
    },
    {
     "name": "stdout",
     "output_type": "stream",
     "text": [
      "12 11 10 9 8 7 6 5 4 3 2 1 "
     ]
    }
   ],
   "source": [
    "##TAIL RECURSION\n",
    "def nums(n):\n",
    "    if n==0:\n",
    "        return\n",
    "    print(n,end=' ')\n",
    "    nums(n-1)\n",
    "n=int(input())\n",
    "nums(n)"
   ]
  },
  {
   "cell_type": "code",
   "execution_count": 12,
   "id": "10d28db1-17c0-41db-8d14-55d6eb294690",
   "metadata": {},
   "outputs": [
    {
     "name": "stdin",
     "output_type": "stream",
     "text": [
      " 52\n"
     ]
    },
    {
     "name": "stdout",
     "output_type": "stream",
     "text": [
      "1 2 3 4 5 6 7 8 9 10 11 12 13 14 15 16 17 18 19 20 21 22 23 24 25 26 27 28 29 30 31 32 33 34 35 36 37 38 39 40 41 42 43 44 45 46 47 48 49 50 51 52 "
     ]
    }
   ],
   "source": [
    "#HEAD RECURSION\n",
    "def nums(n):\n",
    "    if n==0:\n",
    "        return\n",
    "    nums(n-1)\n",
    "    print(n,end=' ')\n",
    "\n",
    "n=int(input())\n",
    "nums(n)"
   ]
  },
  {
   "cell_type": "code",
   "execution_count": 14,
   "id": "3c886bd8-02fc-43b8-bc86-95ac77a87163",
   "metadata": {},
   "outputs": [
    {
     "name": "stdout",
     "output_type": "stream",
     "text": [
      "543212345"
     ]
    }
   ],
   "source": [
    "def print_pattern(n):\n",
    "    if n == 1:\n",
    "        print(1, end=\"\")\n",
    "        return\n",
    "    print(n, end=\"\")\n",
    "    print_pattern(n - 1)\n",
    "    print(n, end=\"\")\n",
    "print_pattern(5)"
   ]
  },
  {
   "cell_type": "code",
   "execution_count": 20,
   "id": "a3d4f3cf-0a94-44f1-9825-b531e2b3ac87",
   "metadata": {},
   "outputs": [
    {
     "name": "stdin",
     "output_type": "stream",
     "text": [
      "Enter a number:  12\n"
     ]
    },
    {
     "name": "stdout",
     "output_type": "stream",
     "text": [
      "Factorial: 479001600\n"
     ]
    }
   ],
   "source": [
    "#factorial of number\n",
    "def factorial(n):\n",
    "    if n == 0 or n == 1:\n",
    "        return 1\n",
    "    else:\n",
    "        return n * factorial(n - 1)\n",
    "num = int(input(\"Enter a number: \"))\n",
    "print(\"Factorial:\", factorial(num))"
   ]
  },
  {
   "cell_type": "code",
   "execution_count": 16,
   "id": "6c64f756-44d6-4211-ba00-064516cd1eb0",
   "metadata": {},
   "outputs": [
    {
     "name": "stdin",
     "output_type": "stream",
     "text": [
      " 12\n"
     ]
    },
    {
     "name": "stdout",
     "output_type": "stream",
     "text": [
      "False\n"
     ]
    }
   ],
   "source": [
    "# palindrom\n",
    "def palindrom(s):\n",
    "    if s==s[::-1]:\n",
    "        print(True)\n",
    "    else:\n",
    "        print(False)\n",
    "s=input()\n",
    "palindrom(s)"
   ]
  },
  {
   "cell_type": "code",
   "execution_count": 17,
   "id": "d76a6e93-fd9a-46a0-b7fe-19a1f8e46122",
   "metadata": {},
   "outputs": [
    {
     "name": "stdin",
     "output_type": "stream",
     "text": [
      "Enter a number:  14\n"
     ]
    },
    {
     "name": "stdout",
     "output_type": "stream",
     "text": [
      "Not a perfect square\n"
     ]
    }
   ],
   "source": [
    "def is_perfect_square(num, i=1):\n",
    "    if i * i == num:\n",
    "        return True\n",
    "    elif i * i > num:\n",
    "        return False\n",
    "    else:\n",
    "        return is_perfect_square(num, i + 1)\n",
    "n = int(input(\"Enter a number: \"))\n",
    "if is_perfect_square(n):\n",
    "    print(\"Perfect square\")\n",
    "else:\n",
    "    print(\"Not a perfect square\")"
   ]
  },
  {
   "cell_type": "code",
   "execution_count": 22,
   "id": "59ba8591-f915-4fb5-84c5-d643ab832af5",
   "metadata": {},
   "outputs": [
    {
     "name": "stdin",
     "output_type": "stream",
     "text": [
      " 11\n"
     ]
    },
    {
     "data": {
      "text/plain": [
       "11"
      ]
     },
     "execution_count": 22,
     "metadata": {},
     "output_type": "execute_result"
    }
   ],
   "source": [
    "def rev_num(n,rev=0):\n",
    "    if n==0:\n",
    "        return rev\n",
    "    return rev_num(n//10,rev*10+n%10)\n",
    "n=int(input())\n",
    "rev_num(n)"
   ]
  },
  {
   "cell_type": "code",
   "execution_count": 23,
   "id": "b7d15df4-79fc-4754-8110-5f1730449b0b",
   "metadata": {},
   "outputs": [
    {
     "name": "stdin",
     "output_type": "stream",
     "text": [
      " 12\n"
     ]
    },
    {
     "data": {
      "text/plain": [
       "False"
      ]
     },
     "execution_count": 23,
     "metadata": {},
     "output_type": "execute_result"
    }
   ],
   "source": [
    "def is_palindrom(n,rev=0,temp=None):\n",
    "    if temp is None:\n",
    "        temp=n\n",
    "    if n==0:\n",
    "        return temp==rev\n",
    "    return is_palindrom(n//10,rev*10+n%10,temp)\n",
    "n=int(input())\n",
    "is_palindrom(n)"
   ]
  },
  {
   "cell_type": "code",
   "execution_count": 24,
   "id": "a9baae0d-5451-46a4-af1c-3a79bed213fc",
   "metadata": {},
   "outputs": [
    {
     "name": "stdin",
     "output_type": "stream",
     "text": [
      "Enter a number:  45\n"
     ]
    },
    {
     "data": {
      "text/plain": [
       "False"
      ]
     },
     "execution_count": 24,
     "metadata": {},
     "output_type": "execute_result"
    }
   ],
   "source": [
    "def is_perfect_square(num, i=1):\n",
    "    if i * i == num:\n",
    "        return True\n",
    "    elif i * i > num:\n",
    "        return False\n",
    "    else:\n",
    "         return is_perfect_square(num, i + 1)\n",
    "num = int(input(\"Enter a number: \"))\n",
    "is_perfect_square(num)"
   ]
  },
  {
   "cell_type": "code",
   "execution_count": null,
   "id": "391a469a-473d-4c24-b734-3fe422b70fc1",
   "metadata": {},
   "outputs": [],
   "source": [
    "def "
   ]
  }
 ],
 "metadata": {
  "kernelspec": {
   "display_name": "Python [conda env:base] *",
   "language": "python",
   "name": "conda-base-py"
  },
  "language_info": {
   "codemirror_mode": {
    "name": "ipython",
    "version": 3
   },
   "file_extension": ".py",
   "mimetype": "text/x-python",
   "name": "python",
   "nbconvert_exporter": "python",
   "pygments_lexer": "ipython3",
   "version": "3.13.5"
  }
 },
 "nbformat": 4,
 "nbformat_minor": 5
}
