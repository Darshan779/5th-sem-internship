{
 "cells": [
  {
   "cell_type": "code",
   "execution_count": 1,
   "id": "cd7cf3ec-2a96-4d84-9ccc-66fc20bb229d",
   "metadata": {},
   "outputs": [
    {
     "name": "stdout",
     "output_type": "stream",
     "text": [
      "[1, 2, 3, 4, 5, 6, 7, 8, 9]\n"
     ]
    }
   ],
   "source": [
    "#bubble sort\n",
    "arr=[7,3,8,6,5,9,1,2,4]\n",
    "n=len(arr)\n",
    "for i in range(n):\n",
    "    for j in range(0,n-i-1):\n",
    "        if arr[j]>arr[j+1]:\n",
    "            arr[j],arr[j+1]=arr[j+1],arr[j]\n",
    "print(arr)"
   ]
  },
  {
   "cell_type": "code",
   "execution_count": 6,
   "id": "9ad283cb-0aca-44a3-be70-9e8656446b1c",
   "metadata": {},
   "outputs": [
    {
     "name": "stdout",
     "output_type": "stream",
     "text": [
      "Selection sort: [10, 14, 14, 29, 37]\n"
     ]
    }
   ],
   "source": [
    "#2. Selection Sort\n",
    "def selection_sort(arr):\n",
    "    n = len(arr)\n",
    "    for i in range(n):\n",
    "        min_idx = i\n",
    "        for j in range(i + 1, n):\n",
    "            if arr[j] < arr[min_idx]:\n",
    "                min_idx = j\n",
    "        arr[i], arr[min_idx] = arr[min_idx], arr[i]\n",
    "arr = [29, 10, 14, 37, 14]\n",
    "selection_sort(arr)\n",
    "print(\"Selection sort:\", arr)"
   ]
  },
  {
   "cell_type": "code",
   "execution_count": 7,
   "id": "c2d90418-ffe5-43d6-82d8-eed50f3174e1",
   "metadata": {},
   "outputs": [
    {
     "name": "stdout",
     "output_type": "stream",
     "text": [
      "Inseration sort: [5, 6, 11, 12, 13]\n"
     ]
    }
   ],
   "source": [
    "#3. Insertion Sort\n",
    "def insertion_sort(arr):\n",
    "    for i in range(1, len(arr)):\n",
    "        key = arr[i]\n",
    "        j = i - 1\n",
    "        while j >= 0 and key < arr[j]:\n",
    "            arr[j + 1] = arr[j]\n",
    "            j -= 1\n",
    "        arr[j + 1] = key\n",
    "arr = [12, 11, 13, 5, 6]\n",
    "insertion_sort(arr)\n",
    "print(\"Inseration sort:\", arr)"
   ]
  },
  {
   "cell_type": "code",
   "execution_count": 8,
   "id": "3ad01022-2fa7-4565-8a0c-a86e481700e3",
   "metadata": {},
   "outputs": [
    {
     "name": "stdout",
     "output_type": "stream",
     "text": [
      "Merge sort: [3, 9, 10, 27, 38, 43, 82]\n"
     ]
    }
   ],
   "source": [
    "# Merge Sort\n",
    "def merge_sort(arr):\n",
    "    if len(arr) > 1:\n",
    "        mid = len(arr) // 2\n",
    "        L = arr[:mid]\n",
    "        R = arr[mid:]\n",
    "        merge_sort(L)\n",
    "        merge_sort(R)\n",
    "        i = j = k = 0\n",
    "        while i < len(L) and j < len(R):\n",
    "            if L[i] < R[j]:\n",
    "                arr[k] = L[i]\n",
    "                i += 1\n",
    "            else:\n",
    "                arr[k] = R[j]\n",
    "                j += 1\n",
    "            k += 1\n",
    "        while i < len(L):\n",
    "            arr[k] = L[i]\n",
    "            i += 1\n",
    "            k += 1\n",
    "        while j < len(R):\n",
    "            arr[k] = R[j]\n",
    "            j += 1\n",
    "            k += 1\n",
    "arr = [38, 27, 43, 3, 9, 82, 10]\n",
    "merge_sort(arr)\n",
    "print(\"Merge sort:\", arr)"
   ]
  },
  {
   "cell_type": "code",
   "execution_count": 9,
   "id": "af0ce85c-8e75-435e-9932-b0c241b72058",
   "metadata": {},
   "outputs": [
    {
     "name": "stdout",
     "output_type": "stream",
     "text": [
      "quick sort: [1, 5, 7, 8, 9, 10]\n"
     ]
    }
   ],
   "source": [
    "#5. Quick Sort\n",
    "def quick_sort(arr):\n",
    "    if len(arr) <= 1:\n",
    "        return arr\n",
    "    else:\n",
    "        pivot = arr[0]\n",
    "        less = [x for x in arr[1:] if x <= pivot]\n",
    "        greater = [x for x in arr[1:] if x > pivot]\n",
    "        return quick_sort(less) + [pivot] + quick_sort(greater)\n",
    "arr = [10, 7, 8, 9, 1, 5]\n",
    "sorted_arr = quick_sort(arr)\n",
    "print(\"quick sort:\", sorted_arr)"
   ]
  },
  {
   "cell_type": "code",
   "execution_count": null,
   "id": "f7fdb863-b7fd-4c7a-a71a-033cdfa7b5e9",
   "metadata": {},
   "outputs": [],
   "source": [
    "#single linked list\n",
    "class Node:\n",
    "    def _init_(self, new_data):\n",
    "        self.data = new_data\n",
    "        self.next = None\n",
    "head = Node(10)\n",
    "head.next = Node(20)\n",
    "head.next.next = Node(30)\n",
    "head.next.next.next = Node(40)\n",
    "temp = head\n",
    "while temp is not None:\n",
    "    print(temp.data, end=\" \")\n",
    "    temp = temp.next"
   ]
  },
  {
   "cell_type": "code",
   "execution_count": 11,
   "id": "e5ee457d-e656-404b-b6f9-011e9ce9444a",
   "metadata": {},
   "outputs": [],
   "source": [
    "class node:\n",
    "    def init(self,data):\n",
    "        self.data=data\n",
    "        self.next=node\n",
    "class SLL:\n",
    "    def init(self):\n",
    "        self.head=None\n",
    "    def insert_begin(self,data):\n",
    "        print()\n",
    "        new=node(data)\n",
    "        if self.head is None:\n",
    "            self.head = new\n",
    "        else:\n",
    "            new.next=self.head\n",
    "            self.head=new\n",
    "    def insert_end(self,data):\n",
    "        print()\n",
    "        new1=node(data)\n",
    "        if self.head is None:\n",
    "            self.head=new1\n",
    "        else:\n",
    "            temp=self.head\n",
    "            while temp.next!=None:\n",
    "                temp=temp.next\n",
    "            temp.next=new1\n",
    "\n",
    "            \n",
    "    def insert_any(self,pos,data):\n",
    "        print()\n",
    "        new2=node(data)\n",
    "        temp=self.head\n",
    "        for i in range(1,pos-1):\n",
    "            temp=temp.next\n",
    "        new2.next=temp.next\n",
    "        temp.next=new2\n",
    "    def Traversal(self):\n",
    "        if self.head is None:\n",
    "            print(\"empty\")\n",
    "        else:\n",
    "            temp=self.head\n",
    "            while temp!=None:\n",
    "                print(temp,data,end=\" ->\")\n",
    "                temp=temp.next\n",
    "                \n",
    "    def delet_bigging(self,head):\n",
    "        if head is None:\n",
    "            return None\n",
    "        temp=head\n",
    "        head=head.next\n",
    "        temp=None\n",
    "        return head\n",
    "        "
   ]
  },
  {
   "cell_type": "code",
   "execution_count": null,
   "id": "60148615-5562-4ccc-bf76-b36f8b0b3675",
   "metadata": {},
   "outputs": [],
   "source": []
  }
 ],
 "metadata": {
  "kernelspec": {
   "display_name": "Python [conda env:base] *",
   "language": "python",
   "name": "conda-base-py"
  },
  "language_info": {
   "codemirror_mode": {
    "name": "ipython",
    "version": 3
   },
   "file_extension": ".py",
   "mimetype": "text/x-python",
   "name": "python",
   "nbconvert_exporter": "python",
   "pygments_lexer": "ipython3",
   "version": "3.13.5"
  }
 },
 "nbformat": 4,
 "nbformat_minor": 5
}
